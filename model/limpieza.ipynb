{
 "cells": [
  {
   "cell_type": "code",
   "execution_count": 14,
   "id": "b48c016c",
   "metadata": {},
   "outputs": [
    {
     "name": "stdout",
     "output_type": "stream",
     "text": [
      "Empty DataFrame\n",
      "Columns: [ANO, CODIGO DEPARTAMENTO, DEPARTAMENTO, MUNICIPIO, GRUPO POBLACIONAL, BIOLOGICO, META, DOSIS APLICADAS, COBERTURA, TIPO DOSIS, REGION]\n",
      "Index: []\n"
     ]
    }
   ],
   "source": [
    "import pandas as pd\n",
    "\n",
    "# Definimos los nombres de las columnas\n",
    "columnas = [\n",
    "    \"ANO\",\n",
    "    \"CODIGO DEPARTAMENTO\",\n",
    "    \"DEPARTAMENTO\",\n",
    "    \"MUNICIPIO\",\n",
    "    \"GRUPO POBLACIONAL\",\n",
    "    \"BIOLOGICO\",\n",
    "    \"META\",\n",
    "    \"DOSIS APLICADAS\",\n",
    "    \"COBERTURA\",\n",
    "    \"TIPO DOSIS\",\n",
    "    \"REGION\"\n",
    "]\n",
    "\n",
    "# Creamos el DataFrame vacío con las columnas especificadas\n",
    "df = pd.DataFrame(columns=columnas)\n",
    "\n",
    "# Mostramos el DataFrame\n",
    "print(df)\n"
   ]
  },
  {
   "cell_type": "code",
   "execution_count": 15,
   "id": "29d33990",
   "metadata": {},
   "outputs": [
    {
     "name": "stdout",
     "output_type": "stream",
     "text": [
      "Directorio actual: c:\\Users\\volpi\\Desktop\\BI\\PROYECTO 2\\Proy2\\model\n"
     ]
    }
   ],
   "source": [
    "import os\n",
    "\n",
    "print(\"Directorio actual:\", os.getcwd())\n"
   ]
  },
  {
   "cell_type": "code",
   "execution_count": 16,
   "id": "07eab1e5",
   "metadata": {},
   "outputs": [],
   "source": [
    "archivo = \"Cobertura_Vacunacion_Municipal_2007-2010.xlsx\""
   ]
  },
  {
   "cell_type": "markdown",
   "id": "47342ee5",
   "metadata": {},
   "source": [
    "## 2007"
   ]
  },
  {
   "cell_type": "code",
   "execution_count": 17,
   "id": "21c87519",
   "metadata": {},
   "outputs": [],
   "source": [
    "ejemplo = pd.read_excel(archivo, sheet_name=\"2007\")"
   ]
  },
  {
   "cell_type": "code",
   "execution_count": 18,
   "id": "a368bcab",
   "metadata": {},
   "outputs": [
    {
     "data": {
      "text/html": [
       "<div>\n",
       "<style scoped>\n",
       "    .dataframe tbody tr th:only-of-type {\n",
       "        vertical-align: middle;\n",
       "    }\n",
       "\n",
       "    .dataframe tbody tr th {\n",
       "        vertical-align: top;\n",
       "    }\n",
       "\n",
       "    .dataframe thead th {\n",
       "        text-align: right;\n",
       "    }\n",
       "</style>\n",
       "<table border=\"1\" class=\"dataframe\">\n",
       "  <thead>\n",
       "    <tr style=\"text-align: right;\">\n",
       "      <th></th>\n",
       "      <th>CODIGO</th>\n",
       "      <th>DPTO</th>\n",
       "      <th>Municipio</th>\n",
       "      <th>Población menor de 1 año (1)</th>\n",
       "      <th>VOP</th>\n",
       "      <th>% VOP</th>\n",
       "      <th>DPT</th>\n",
       "      <th>% DPT</th>\n",
       "      <th>BCG</th>\n",
       "      <th>%BCG</th>\n",
       "      <th>Hepatitis B</th>\n",
       "      <th>% Hepatitis B</th>\n",
       "      <th>Hib</th>\n",
       "      <th>%Hib</th>\n",
       "      <th>Población de 1 año (1)</th>\n",
       "      <th>Triple Viral</th>\n",
       "      <th>%Triple Viral</th>\n",
       "    </tr>\n",
       "  </thead>\n",
       "  <tbody>\n",
       "    <tr>\n",
       "      <th>0</th>\n",
       "      <td>5001</td>\n",
       "      <td>Antioquia</td>\n",
       "      <td>Medellín</td>\n",
       "      <td>29085</td>\n",
       "      <td>29428.0</td>\n",
       "      <td>101.179302</td>\n",
       "      <td>29907.0</td>\n",
       "      <td>102.826199</td>\n",
       "      <td>41663.0</td>\n",
       "      <td>143.245659</td>\n",
       "      <td>29881.0</td>\n",
       "      <td>102.736806</td>\n",
       "      <td>29907.0</td>\n",
       "      <td>102.826199</td>\n",
       "      <td>29314</td>\n",
       "      <td>31500.0</td>\n",
       "      <td>107.457188</td>\n",
       "    </tr>\n",
       "    <tr>\n",
       "      <th>1</th>\n",
       "      <td>5002</td>\n",
       "      <td>Antioquia</td>\n",
       "      <td>Abejorral</td>\n",
       "      <td>370</td>\n",
       "      <td>333.0</td>\n",
       "      <td>90.000000</td>\n",
       "      <td>334.0</td>\n",
       "      <td>90.270270</td>\n",
       "      <td>189.0</td>\n",
       "      <td>51.081081</td>\n",
       "      <td>334.0</td>\n",
       "      <td>90.270270</td>\n",
       "      <td>334.0</td>\n",
       "      <td>90.270270</td>\n",
       "      <td>369</td>\n",
       "      <td>315.0</td>\n",
       "      <td>85.365854</td>\n",
       "    </tr>\n",
       "    <tr>\n",
       "      <th>2</th>\n",
       "      <td>5004</td>\n",
       "      <td>Antioquia</td>\n",
       "      <td>Abriaquí</td>\n",
       "      <td>43</td>\n",
       "      <td>30.0</td>\n",
       "      <td>69.767442</td>\n",
       "      <td>30.0</td>\n",
       "      <td>69.767442</td>\n",
       "      <td>16.0</td>\n",
       "      <td>37.209302</td>\n",
       "      <td>30.0</td>\n",
       "      <td>69.767442</td>\n",
       "      <td>30.0</td>\n",
       "      <td>69.767442</td>\n",
       "      <td>43</td>\n",
       "      <td>38.0</td>\n",
       "      <td>88.372093</td>\n",
       "    </tr>\n",
       "    <tr>\n",
       "      <th>3</th>\n",
       "      <td>5021</td>\n",
       "      <td>Antioquia</td>\n",
       "      <td>Alejandría</td>\n",
       "      <td>53</td>\n",
       "      <td>74.0</td>\n",
       "      <td>139.622642</td>\n",
       "      <td>74.0</td>\n",
       "      <td>139.622642</td>\n",
       "      <td>48.0</td>\n",
       "      <td>90.566038</td>\n",
       "      <td>74.0</td>\n",
       "      <td>139.622642</td>\n",
       "      <td>74.0</td>\n",
       "      <td>139.622642</td>\n",
       "      <td>54</td>\n",
       "      <td>64.0</td>\n",
       "      <td>118.518519</td>\n",
       "    </tr>\n",
       "    <tr>\n",
       "      <th>4</th>\n",
       "      <td>5030</td>\n",
       "      <td>Antioquia</td>\n",
       "      <td>Amagá</td>\n",
       "      <td>563</td>\n",
       "      <td>400.0</td>\n",
       "      <td>71.047957</td>\n",
       "      <td>414.0</td>\n",
       "      <td>73.534636</td>\n",
       "      <td>243.0</td>\n",
       "      <td>43.161634</td>\n",
       "      <td>414.0</td>\n",
       "      <td>73.534636</td>\n",
       "      <td>414.0</td>\n",
       "      <td>73.534636</td>\n",
       "      <td>569</td>\n",
       "      <td>443.0</td>\n",
       "      <td>77.855888</td>\n",
       "    </tr>\n",
       "    <tr>\n",
       "      <th>5</th>\n",
       "      <td>5031</td>\n",
       "      <td>Antioquia</td>\n",
       "      <td>Amalfi</td>\n",
       "      <td>478</td>\n",
       "      <td>494.0</td>\n",
       "      <td>103.347280</td>\n",
       "      <td>504.0</td>\n",
       "      <td>105.439331</td>\n",
       "      <td>312.0</td>\n",
       "      <td>65.271967</td>\n",
       "      <td>504.0</td>\n",
       "      <td>105.439331</td>\n",
       "      <td>504.0</td>\n",
       "      <td>105.439331</td>\n",
       "      <td>477</td>\n",
       "      <td>457.0</td>\n",
       "      <td>95.807128</td>\n",
       "    </tr>\n",
       "    <tr>\n",
       "      <th>6</th>\n",
       "      <td>5034</td>\n",
       "      <td>Antioquia</td>\n",
       "      <td>Andes</td>\n",
       "      <td>854</td>\n",
       "      <td>547.0</td>\n",
       "      <td>64.051522</td>\n",
       "      <td>550.0</td>\n",
       "      <td>64.402810</td>\n",
       "      <td>494.0</td>\n",
       "      <td>57.845433</td>\n",
       "      <td>547.0</td>\n",
       "      <td>64.051522</td>\n",
       "      <td>550.0</td>\n",
       "      <td>64.402810</td>\n",
       "      <td>853</td>\n",
       "      <td>614.0</td>\n",
       "      <td>71.981243</td>\n",
       "    </tr>\n",
       "    <tr>\n",
       "      <th>7</th>\n",
       "      <td>5036</td>\n",
       "      <td>Antioquia</td>\n",
       "      <td>Angelópolis</td>\n",
       "      <td>127</td>\n",
       "      <td>85.0</td>\n",
       "      <td>66.929134</td>\n",
       "      <td>86.0</td>\n",
       "      <td>67.716535</td>\n",
       "      <td>56.0</td>\n",
       "      <td>44.094488</td>\n",
       "      <td>86.0</td>\n",
       "      <td>67.716535</td>\n",
       "      <td>86.0</td>\n",
       "      <td>67.716535</td>\n",
       "      <td>129</td>\n",
       "      <td>83.0</td>\n",
       "      <td>64.341085</td>\n",
       "    </tr>\n",
       "    <tr>\n",
       "      <th>8</th>\n",
       "      <td>5038</td>\n",
       "      <td>Antioquia</td>\n",
       "      <td>Angostura</td>\n",
       "      <td>305</td>\n",
       "      <td>236.0</td>\n",
       "      <td>77.377049</td>\n",
       "      <td>237.0</td>\n",
       "      <td>77.704918</td>\n",
       "      <td>155.0</td>\n",
       "      <td>50.819672</td>\n",
       "      <td>237.0</td>\n",
       "      <td>77.704918</td>\n",
       "      <td>237.0</td>\n",
       "      <td>77.704918</td>\n",
       "      <td>299</td>\n",
       "      <td>247.0</td>\n",
       "      <td>82.608696</td>\n",
       "    </tr>\n",
       "    <tr>\n",
       "      <th>9</th>\n",
       "      <td>5040</td>\n",
       "      <td>Antioquia</td>\n",
       "      <td>Anorí</td>\n",
       "      <td>319</td>\n",
       "      <td>370.0</td>\n",
       "      <td>115.987461</td>\n",
       "      <td>372.0</td>\n",
       "      <td>116.614420</td>\n",
       "      <td>283.0</td>\n",
       "      <td>88.714734</td>\n",
       "      <td>370.0</td>\n",
       "      <td>115.987461</td>\n",
       "      <td>372.0</td>\n",
       "      <td>116.614420</td>\n",
       "      <td>320</td>\n",
       "      <td>356.0</td>\n",
       "      <td>111.250000</td>\n",
       "    </tr>\n",
       "  </tbody>\n",
       "</table>\n",
       "</div>"
      ],
      "text/plain": [
       "   CODIGO       DPTO    Municipio  Población menor de 1 año (1)      VOP  \\\n",
       "0    5001  Antioquia     Medellín                         29085  29428.0   \n",
       "1    5002  Antioquia    Abejorral                           370    333.0   \n",
       "2    5004  Antioquia     Abriaquí                            43     30.0   \n",
       "3    5021  Antioquia   Alejandría                            53     74.0   \n",
       "4    5030  Antioquia        Amagá                           563    400.0   \n",
       "5    5031  Antioquia       Amalfi                           478    494.0   \n",
       "6    5034  Antioquia        Andes                           854    547.0   \n",
       "7    5036  Antioquia  Angelópolis                           127     85.0   \n",
       "8    5038  Antioquia    Angostura                           305    236.0   \n",
       "9    5040  Antioquia        Anorí                           319    370.0   \n",
       "\n",
       "        % VOP      DPT       % DPT      BCG        %BCG  Hepatitis B  \\\n",
       "0  101.179302  29907.0  102.826199  41663.0  143.245659      29881.0   \n",
       "1   90.000000    334.0   90.270270    189.0   51.081081        334.0   \n",
       "2   69.767442     30.0   69.767442     16.0   37.209302         30.0   \n",
       "3  139.622642     74.0  139.622642     48.0   90.566038         74.0   \n",
       "4   71.047957    414.0   73.534636    243.0   43.161634        414.0   \n",
       "5  103.347280    504.0  105.439331    312.0   65.271967        504.0   \n",
       "6   64.051522    550.0   64.402810    494.0   57.845433        547.0   \n",
       "7   66.929134     86.0   67.716535     56.0   44.094488         86.0   \n",
       "8   77.377049    237.0   77.704918    155.0   50.819672        237.0   \n",
       "9  115.987461    372.0  116.614420    283.0   88.714734        370.0   \n",
       "\n",
       "   % Hepatitis B      Hib        %Hib  Población de 1 año (1)  Triple Viral  \\\n",
       "0     102.736806  29907.0  102.826199                   29314       31500.0   \n",
       "1      90.270270    334.0   90.270270                     369         315.0   \n",
       "2      69.767442     30.0   69.767442                      43          38.0   \n",
       "3     139.622642     74.0  139.622642                      54          64.0   \n",
       "4      73.534636    414.0   73.534636                     569         443.0   \n",
       "5     105.439331    504.0  105.439331                     477         457.0   \n",
       "6      64.051522    550.0   64.402810                     853         614.0   \n",
       "7      67.716535     86.0   67.716535                     129          83.0   \n",
       "8      77.704918    237.0   77.704918                     299         247.0   \n",
       "9     115.987461    372.0  116.614420                     320         356.0   \n",
       "\n",
       "   %Triple Viral  \n",
       "0     107.457188  \n",
       "1      85.365854  \n",
       "2      88.372093  \n",
       "3     118.518519  \n",
       "4      77.855888  \n",
       "5      95.807128  \n",
       "6      71.981243  \n",
       "7      64.341085  \n",
       "8      82.608696  \n",
       "9     111.250000  "
      ]
     },
     "execution_count": 18,
     "metadata": {},
     "output_type": "execute_result"
    }
   ],
   "source": [
    "ejemplo.head(10)"
   ]
  },
  {
   "cell_type": "code",
   "execution_count": 19,
   "id": "ff577394",
   "metadata": {},
   "outputs": [
    {
     "data": {
      "text/plain": [
       "Index(['CODIGO', 'DPTO', 'Municipio', 'Población menor de 1 año (1)', 'VOP',\n",
       "       '% VOP', 'DPT', '% DPT', 'BCG', '%BCG', 'Hepatitis B', '% Hepatitis B',\n",
       "       'Hib', '%Hib', 'Población de 1 año (1)', 'Triple Viral',\n",
       "       '%Triple Viral'],\n",
       "      dtype='object')"
      ]
     },
     "execution_count": 19,
     "metadata": {},
     "output_type": "execute_result"
    }
   ],
   "source": [
    "ejemplo.columns"
   ]
  },
  {
   "cell_type": "code",
   "execution_count": 20,
   "id": "cfb6f908",
   "metadata": {},
   "outputs": [],
   "source": [
    "import pandas as pd\n",
    "\n",
    "def transformar_base(df_original: pd.DataFrame, anio: int) -> pd.DataFrame:\n",
    "    # Mapeo de biológicos a grupo poblacional\n",
    "    biologicos = [\n",
    "        (\"VOP\", \"Población menor de 1 año\"),\n",
    "        (\"DPT\", \"Población menor de 1 año\"),\n",
    "        (\"BCG\", \"Población menor de 1 año\"),\n",
    "        (\"Hepatitis B\", \"Población menor de 1 año\"),\n",
    "        (\"Hib\", \"Población menor de 1 año\"),\n",
    "        (\"Triple Viral\", \"Población de 1 año\"),\n",
    "    ]\n",
    "\n",
    "    # DataFrame de salida\n",
    "    columnas_salida = [\n",
    "        \"ANO\",\n",
    "        \"CODIGO DEPARTAMENTO\",\n",
    "        \"DEPARTAMENTO\",\n",
    "        \"MUNICIPIO\",\n",
    "        \"GRUPO POBLACIONAL\",\n",
    "        \"BIOLOGICO\",\n",
    "        \"META\",\n",
    "        \"DOSIS APLICADAS\",\n",
    "        \"COBERTURA\",\n",
    "        \"TIPO DOSIS\",\n",
    "        \"REGION\"\n",
    "    ]\n",
    "    filas = []\n",
    "\n",
    "    for bio, grupo in biologicos:\n",
    "        dosis_col = bio\n",
    "        cobertura_col = f\"% {bio}\".replace(\"  \", \" \").replace(\" %\", \"%\")  # Maneja espacios inconsistentes\n",
    "        meta_col = grupo\n",
    "\n",
    "        for i, row in df_original.iterrows():\n",
    "            filas.append({\n",
    "                \"ANO\": anio,\n",
    "                \"CODIGO DEPARTAMENTO\": row[\"CODIGO\"],\n",
    "                \"DEPARTAMENTO\": row[\"DPTO\"],\n",
    "                \"MUNICIPIO\": row[\"Municipio\"],\n",
    "                \"GRUPO POBLACIONAL\": grupo,\n",
    "                \"BIOLOGICO\": bio,\n",
    "                \"META\": row[meta_col] if meta_col in df_original.columns else None,\n",
    "                \"DOSIS APLICADAS\": row[dosis_col] if dosis_col in df_original.columns else None,\n",
    "                \"COBERTURA\": row[cobertura_col] if cobertura_col in df_original.columns else None,\n",
    "                \"TIPO DOSIS\": \"Unica\",\n",
    "                \"REGION\": \"None\"  \n",
    "            })\n",
    "\n",
    "    df_transformado = pd.DataFrame(filas, columns=columnas_salida)\n",
    "    return df_transformado\n"
   ]
  },
  {
   "cell_type": "code",
   "execution_count": 21,
   "id": "f61382ee",
   "metadata": {},
   "outputs": [
    {
     "name": "stdout",
     "output_type": "stream",
     "text": [
      "    ANO  CODIGO DEPARTAMENTO DEPARTAMENTO   MUNICIPIO  \\\n",
      "0  2007                 5001    Antioquia    Medellín   \n",
      "1  2007                 5002    Antioquia   Abejorral   \n",
      "2  2007                 5004    Antioquia    Abriaquí   \n",
      "3  2007                 5021    Antioquia  Alejandría   \n",
      "4  2007                 5030    Antioquia       Amagá   \n",
      "\n",
      "          GRUPO POBLACIONAL BIOLOGICO  META  DOSIS APLICADAS   COBERTURA  \\\n",
      "0  Población menor de 1 año       VOP  None          29428.0  101.179302   \n",
      "1  Población menor de 1 año       VOP  None            333.0   90.000000   \n",
      "2  Población menor de 1 año       VOP  None             30.0   69.767442   \n",
      "3  Población menor de 1 año       VOP  None             74.0  139.622642   \n",
      "4  Población menor de 1 año       VOP  None            400.0   71.047957   \n",
      "\n",
      "  TIPO DOSIS REGION  \n",
      "0      Unica   None  \n",
      "1      Unica   None  \n",
      "2      Unica   None  \n",
      "3      Unica   None  \n",
      "4      Unica   None  \n"
     ]
    }
   ],
   "source": [
    "df_transformado_2007 = transformar_base(ejemplo, anio=2007)\n",
    "print(df_transformado_2007.head())\n"
   ]
  },
  {
   "cell_type": "code",
   "execution_count": 22,
   "id": "a23e5dce",
   "metadata": {},
   "outputs": [],
   "source": [
    "df_transformado_2007.to_csv(\"2007.csv\", index=False, encoding=\"utf-8-sig\")"
   ]
  },
  {
   "cell_type": "markdown",
   "id": "9748db2e",
   "metadata": {},
   "source": [
    "## 2008"
   ]
  },
  {
   "cell_type": "code",
   "execution_count": 23,
   "id": "9901f67c",
   "metadata": {},
   "outputs": [],
   "source": [
    "pd2008 = pd.read_excel(archivo, sheet_name=\"2008\")"
   ]
  },
  {
   "cell_type": "code",
   "execution_count": 24,
   "id": "8b076f03",
   "metadata": {},
   "outputs": [
    {
     "data": {
      "text/plain": [
       "Index(['CODIGO', 'Deptos', 'Municipio', 'Poblaciòn Menor de 1 año', 'POLIO',\n",
       "       '% VOP', 'DPT', '% DPT', 'BCG', '%BCG', 'HB', '% Hepatitis B', 'HiB',\n",
       "       '%Hib', 'Poblaciòn de 1 año', 'T.V.', '%Triple Viral'],\n",
       "      dtype='object')"
      ]
     },
     "execution_count": 24,
     "metadata": {},
     "output_type": "execute_result"
    }
   ],
   "source": [
    "pd2008.columns"
   ]
  },
  {
   "cell_type": "code",
   "execution_count": 25,
   "id": "0899ab34",
   "metadata": {},
   "outputs": [],
   "source": [
    "import pandas as pd\n",
    "\n",
    "def transformar_base_estandarizada(df_original: pd.DataFrame, anio: int) -> pd.DataFrame:\n",
    "    # Mapeo de columnas internas a estándar\n",
    "    biologicos = [\n",
    "        (\"POLIO\", \"Poblaciòn Menor de 1 año\", \"VOP\"),\n",
    "        (\"DPT\", \"Poblaciòn Menor de 1 año\", \"DPT\"),\n",
    "        (\"BCG\", \"Poblaciòn Menor de 1 año\", \"BCG\"),\n",
    "        (\"HB\", \"Poblaciòn Menor de 1 año\", \"Hepatitis B\"),\n",
    "        (\"HiB\", \"Poblaciòn Menor de 1 año\", \"Hib\"),\n",
    "        (\"T.V.\", \"Poblaciòn de 1 año\", \"Triple Viral\"),\n",
    "    ]\n",
    "\n",
    "    # Definimos las columnas del DataFrame de salida\n",
    "    columnas_salida = [\n",
    "        \"ANO\",\n",
    "        \"CODIGO DEPARTAMENTO\",\n",
    "        \"DEPARTAMENTO\",\n",
    "        \"MUNICIPIO\",\n",
    "        \"GRUPO POBLACIONAL\",\n",
    "        \"BIOLOGICO\",\n",
    "        \"META\",\n",
    "        \"DOSIS APLICADAS\",\n",
    "        \"COBERTURA\",\n",
    "        \"TIPO DOSIS\",\n",
    "        \"REGION\"\n",
    "    ]\n",
    "\n",
    "    # Lista de filas que se van a construir\n",
    "    filas = []\n",
    "\n",
    "    for col_interna, col_meta, nombre_estandar in biologicos:\n",
    "        cobertura_col = f\"% {nombre_estandar}\".replace(\"  \", \" \").replace(\" %\", \"%\")  # Maneja espacios inconsistentes\n",
    "\n",
    "        for i, row in df_original.iterrows():\n",
    "            filas.append({\n",
    "                \"ANO\": anio,\n",
    "                \"CODIGO DEPARTAMENTO\": row[\"CODIGO\"],\n",
    "                \"DEPARTAMENTO\": row[\"Deptos\"],\n",
    "                \"MUNICIPIO\": row[\"Municipio\"],\n",
    "                \"GRUPO POBLACIONAL\": col_meta.replace(\"Poblaciòn\", \"Población\"),\n",
    "                \"BIOLOGICO\": nombre_estandar,\n",
    "                \"META\": row[col_meta] if col_meta in df_original.columns else None,\n",
    "                \"DOSIS APLICADAS\": row[col_interna] if col_interna in df_original.columns else None,\n",
    "                \"COBERTURA\": row[cobertura_col] if cobertura_col in df_original.columns else None,\n",
    "                \"TIPO DOSIS\": \"Unica\",\n",
    "                \"REGION\": \"None\"\n",
    "            })\n",
    "\n",
    "    return pd.DataFrame(filas, columns=columnas_salida)\n"
   ]
  },
  {
   "cell_type": "code",
   "execution_count": 26,
   "id": "50f3d6d3",
   "metadata": {},
   "outputs": [
    {
     "name": "stdout",
     "output_type": "stream",
     "text": [
      "    ANO  CODIGO DEPARTAMENTO DEPARTAMENTO   MUNICIPIO  \\\n",
      "0  2008                 5001    Antioquia    Medellín   \n",
      "1  2008                 5002    Antioquia   Abejorral   \n",
      "2  2008                 5004    Antioquia    Abriaquí   \n",
      "3  2008                 5021    Antioquia  Alejandría   \n",
      "4  2008                 5030    Antioquia       Amagá   \n",
      "\n",
      "          GRUPO POBLACIONAL BIOLOGICO   META  DOSIS APLICADAS   COBERTURA  \\\n",
      "0  Población Menor de 1 año       VOP  28963            29289  101.125574   \n",
      "1  Población Menor de 1 año       VOP    366              308   84.153005   \n",
      "2  Población Menor de 1 año       VOP     41               25   60.975610   \n",
      "3  Población Menor de 1 año       VOP     53               62  116.981132   \n",
      "4  Población Menor de 1 año       VOP    560              343   61.250000   \n",
      "\n",
      "  TIPO DOSIS REGION  \n",
      "0      Unica   None  \n",
      "1      Unica   None  \n",
      "2      Unica   None  \n",
      "3      Unica   None  \n",
      "4      Unica   None  \n"
     ]
    }
   ],
   "source": [
    "df_transformado_2008 = transformar_base_estandarizada(pd2008, anio=2008)\n",
    "\n",
    "print(df_transformado_2008.head())\n"
   ]
  },
  {
   "cell_type": "code",
   "execution_count": 27,
   "id": "47346b7a",
   "metadata": {},
   "outputs": [],
   "source": [
    "df_transformado_2008.to_csv(\"2008.csv\", index=False, encoding=\"utf-8-sig\")"
   ]
  },
  {
   "cell_type": "code",
   "execution_count": 28,
   "id": "db52962b",
   "metadata": {},
   "outputs": [
    {
     "data": {
      "text/plain": [
       "array(['Población Menor de 1 año', 'Población de 1 año'], dtype=object)"
      ]
     },
     "execution_count": 28,
     "metadata": {},
     "output_type": "execute_result"
    }
   ],
   "source": [
    "df_transformado_2008[\"GRUPO POBLACIONAL\"].unique()"
   ]
  },
  {
   "cell_type": "markdown",
   "id": "17d8d54c",
   "metadata": {},
   "source": [
    "## 2009"
   ]
  },
  {
   "cell_type": "code",
   "execution_count": 29,
   "id": "bb852402",
   "metadata": {},
   "outputs": [],
   "source": [
    "pd2009 = pd.read_excel(archivo, sheet_name=\"2009\")"
   ]
  },
  {
   "cell_type": "code",
   "execution_count": 30,
   "id": "427a529a",
   "metadata": {},
   "outputs": [
    {
     "data": {
      "text/plain": [
       "Index(['COD', 'Deptos', 'Municipio', 'Poblaciòn Menor de 1 año', 'POLIO',\n",
       "       '% VOP', 'DPT', '% DPT', 'BCG', '%BCG', 'HB', '% HB', 'HiB', '%Hib',\n",
       "       'Poblaciòn de 1 año', 'T.V.', '%Triple Viral', 'F.A.', '%F.A.',\n",
       "       'Rotavirus 2da Dosis', 'Neumococo 3ra Dosis   1er. Año',\n",
       "       'Neumococo 2da Dosis     (12-23 meses)',\n",
       "       'Neumococo Dosis Unica (24-35 meses)', 'TOTALES', 'Unnamed: 24',\n",
       "       'Unnamed: 25', 'Unnamed: 26'],\n",
       "      dtype='object')"
      ]
     },
     "execution_count": 30,
     "metadata": {},
     "output_type": "execute_result"
    }
   ],
   "source": [
    "pd2009.columns"
   ]
  },
  {
   "cell_type": "code",
   "execution_count": 31,
   "id": "255d340f",
   "metadata": {},
   "outputs": [],
   "source": [
    "def transformar_base_ampliada(df_original: pd.DataFrame, anio: int) -> pd.DataFrame:\n",
    "    # Lista de biológicos con mapeo: (columna en Excel, grupo poblacional, nombre estandarizado, tipo dosis)\n",
    "    biologicos = [\n",
    "        (\"POLIO\", \"Poblaciòn Menor de 1 año\", \"VOP\", \"1ra Dosis\"),\n",
    "        (\"DPT\", \"Poblaciòn Menor de 1 año\", \"DPT\", \"1ra Dosis\"),\n",
    "        (\"BCG\", \"Poblaciòn Menor de 1 año\", \"BCG\", \"1ra Dosis\"),\n",
    "        (\"HB\", \"Poblaciòn Menor de 1 año\", \"Hepatitis B\", \"1ra Dosis\"),\n",
    "        (\"HiB\", \"Poblaciòn Menor de 1 año\", \"Hib\", \"1ra Dosis\"),\n",
    "        (\"T.V.\", \"Poblaciòn de 1 año\", \"Triple Viral\", \"1ra Dosis\"),\n",
    "        (\"F.A.\", \"Poblaciòn de 1 año\", \"Fiebre Amarilla\", \"1ra Dosis\"),\n",
    "        (\"Rotavirus 2da Dosis\", \"Poblaciòn menor de 1 año\", \"Rotavirus\", \"2da Dosis\"),\n",
    "        (\"Neumococo 3ra Dosis   1er. Año\", \"Poblaciòn menor de 1 año\", \"Neumococo\", \"3ra Dosis\"),\n",
    "        (\"Neumococo 2da Dosis     (12-23 meses)\", \"Niños 12-23 meses\", \"Neumococo\", \"2da Dosis\"),\n",
    "        (\"Neumococo Dosis Unica (24-35 meses)\", \"Niños 24-35 meses\", \"Neumococo\", \"Dosis Única\"),\n",
    "    ]\n",
    "\n",
    "    columnas_salida = [\n",
    "        \"ANO\",\n",
    "        \"CODIGO DEPARTAMENTO\",\n",
    "        \"DEPARTAMENTO\",\n",
    "        \"MUNICIPIO\",\n",
    "        \"GRUPO POBLACIONAL\",\n",
    "        \"BIOLOGICO\",\n",
    "        \"META\",\n",
    "        \"DOSIS APLICADAS\",\n",
    "        \"COBERTURA\",\n",
    "        \"TIPO DOSIS\",\n",
    "        \"REGION\"\n",
    "    ]\n",
    "\n",
    "    filas = []\n",
    "\n",
    "    for col_excel, grupo, bio_estandar, tipo_dosis in biologicos:\n",
    "        # Detectar columna de cobertura (si existe)\n",
    "        if \"%\" in col_excel or col_excel.startswith(\"%\"):\n",
    "            continue  # no usamos columnas de cobertura como biológicos\n",
    "\n",
    "        cobertura_col = None\n",
    "        for col in df_original.columns:\n",
    "            if col.strip().replace(\" \", \"\").lower() in [f\"%{bio_estandar}\".replace(\" \", \"\").lower(), f\"%{col_excel}\".replace(\" \", \"\").lower()]:\n",
    "                cobertura_col = col\n",
    "                break\n",
    "\n",
    "        for i, row in df_original.iterrows():\n",
    "            filas.append({\n",
    "                \"ANO\": anio,\n",
    "                \"CODIGO DEPARTAMENTO\": row[\"COD\"],\n",
    "                \"DEPARTAMENTO\": row[\"Deptos\"],\n",
    "                \"MUNICIPIO\": row[\"Municipio\"],\n",
    "                \"GRUPO POBLACIONAL\": grupo.replace(\"Poblaciòn\", \"Población\").replace(\"menor\", \"Menor\"),\n",
    "                \"BIOLOGICO\": bio_estandar,\n",
    "                \"META\": row[grupo] if grupo in df_original.columns else None,\n",
    "                \"DOSIS APLICADAS\": row[col_excel] if col_excel in df_original.columns else None,\n",
    "                \"COBERTURA\": row[cobertura_col] if cobertura_col and cobertura_col in df_original.columns else None,\n",
    "                \"TIPO DOSIS\": tipo_dosis if (\"Única\" not in tipo_dosis) else \"Unica\",\n",
    "                \"REGION\": \"None\"\n",
    "            })\n",
    "\n",
    "    return pd.DataFrame(filas, columns=columnas_salida)\n",
    "\n"
   ]
  },
  {
   "cell_type": "code",
   "execution_count": 32,
   "id": "ba91eb7f",
   "metadata": {},
   "outputs": [
    {
     "name": "stdout",
     "output_type": "stream",
     "text": [
      "    ANO  CODIGO DEPARTAMENTO DEPARTAMENTO   MUNICIPIO  \\\n",
      "0  2009                 5001    ANTIOQUIA    Medellín   \n",
      "1  2009                 5002    ANTIOQUIA   Abejorral   \n",
      "2  2009                 5004    ANTIOQUIA    Abriaquí   \n",
      "3  2009                 5021    ANTIOQUIA  Alejandría   \n",
      "4  2009                 5030    ANTIOQUIA       Amagá   \n",
      "\n",
      "          GRUPO POBLACIONAL BIOLOGICO     META  DOSIS APLICADAS   COBERTURA  \\\n",
      "0  Población Menor de 1 año       VOP  28948.0            28650   98.970568   \n",
      "1  Población Menor de 1 año       VOP    364.0              300   82.417582   \n",
      "2  Población Menor de 1 año       VOP     40.0               28   70.000000   \n",
      "3  Población Menor de 1 año       VOP     51.0               53  103.921569   \n",
      "4  Población Menor de 1 año       VOP    558.0              380   68.100358   \n",
      "\n",
      "  TIPO DOSIS REGION  \n",
      "0  1ra Dosis   None  \n",
      "1  1ra Dosis   None  \n",
      "2  1ra Dosis   None  \n",
      "3  1ra Dosis   None  \n",
      "4  1ra Dosis   None  \n"
     ]
    }
   ],
   "source": [
    "  # Ajusta header\n",
    "df_transformado_2009 = transformar_base_ampliada(pd2009, anio=2009)\n",
    "print(df_transformado_2009.head())\n"
   ]
  },
  {
   "cell_type": "code",
   "execution_count": 33,
   "id": "386a0946",
   "metadata": {},
   "outputs": [
    {
     "data": {
      "text/plain": [
       "array(['Población Menor de 1 año', 'Población de 1 año',\n",
       "       'Niños 12-23 meses', 'Niños 24-35 meses'], dtype=object)"
      ]
     },
     "execution_count": 33,
     "metadata": {},
     "output_type": "execute_result"
    }
   ],
   "source": [
    "df_transformado_2009[\"GRUPO POBLACIONAL\"].unique()"
   ]
  },
  {
   "cell_type": "code",
   "execution_count": 34,
   "id": "6d0ee190",
   "metadata": {},
   "outputs": [
    {
     "data": {
      "text/plain": [
       "array(['1ra Dosis', '2da Dosis', '3ra Dosis', 'Unica'], dtype=object)"
      ]
     },
     "execution_count": 34,
     "metadata": {},
     "output_type": "execute_result"
    }
   ],
   "source": [
    "df_transformado_2009[\"TIPO DOSIS\"].unique()"
   ]
  },
  {
   "cell_type": "code",
   "execution_count": 35,
   "id": "5b36e4ed",
   "metadata": {},
   "outputs": [],
   "source": [
    "df_transformado_2009.to_csv(\"2009.csv\", index=False, encoding=\"utf-8-sig\")"
   ]
  },
  {
   "cell_type": "markdown",
   "id": "d1da4091",
   "metadata": {},
   "source": [
    "## 2010"
   ]
  },
  {
   "cell_type": "code",
   "execution_count": 36,
   "id": "d6483871",
   "metadata": {},
   "outputs": [],
   "source": [
    "pd2010 = pd.read_excel(archivo, sheet_name=\"2010\")"
   ]
  },
  {
   "cell_type": "code",
   "execution_count": 37,
   "id": "3ba5c790",
   "metadata": {},
   "outputs": [
    {
     "data": {
      "text/plain": [
       "Index(['COD', 'Deptos', 'Municipio', 'Poblaciòn Menor de 1 año', 'POLIO',\n",
       "       '% VOP', 'DPT', '% DPT', 'BCG', '%BCG', 'HB', '% HB', 'HiB', '%Hib',\n",
       "       'Rotavirus', '% Rota', 'Poblaciòn de 1 año', 'T.V.', '%TV', 'F.A.',\n",
       "       '%F.A.', 'Neumo 2da (11 Meses 29 Dias)', 'Neumo 3ra (12 Meses)',\n",
       "       'Neumo 2da (12-23 meses)', 'Neumo U. (24- 35 Meses)',\n",
       "       'POLIO \\n1er. Ref.', 'DPT\\n1er. Ref.', 'POLIO\\n2do. Ref.',\n",
       "       'DPT\\n2do. Ref.', 'T. V.\\nRef.', 'Totales'],\n",
       "      dtype='object')"
      ]
     },
     "execution_count": 37,
     "metadata": {},
     "output_type": "execute_result"
    }
   ],
   "source": [
    "pd2010.columns"
   ]
  },
  {
   "cell_type": "code",
   "execution_count": 38,
   "id": "c23bed3c",
   "metadata": {},
   "outputs": [],
   "source": [
    "def transformar_base_con_refuerzos(df_original: pd.DataFrame, anio: int) -> pd.DataFrame:\n",
    "    # Mapeo de columnas a estructura final\n",
    "    biologicos = [\n",
    "        (\"POLIO\", \"Poblaciòn Menor de 1 año\", \"VOP\", \"1ra Dosis\"),\n",
    "        (\"DPT\", \"Poblaciòn Menor de 1 año\", \"DPT\", \"1ra Dosis\"),\n",
    "        (\"BCG\", \"Poblaciòn Menor de 1 año\", \"BCG\", \"1ra Dosis\"),\n",
    "        (\"HB\", \"Poblaciòn Menor de 1 año\", \"Hepatitis B\", \"1ra Dosis\"),\n",
    "        (\"HiB\", \"Poblaciòn Menor de 1 año\", \"Hib\", \"1ra Dosis\"),\n",
    "        (\"Rotavirus\", \"Poblaciòn Menor de 1 año\", \"Rotavirus\", \"1ra Dosis\"),\n",
    "        (\"T.V.\", \"Poblaciòn de 1 año\", \"Triple Viral\", \"1ra Dosis\"),\n",
    "        (\"F.A.\", \"Poblaciòn de 1 año\", \"Fiebre Amarilla\", \"1ra Dosis\"),\n",
    "        (\"Neumo 2da (11 Meses 29 Dias)\", \"Poblaciòn Menor de 1 año\", \"Neumococo\", \"2da Dosis\"),\n",
    "        (\"Neumo 3ra (12 Meses)\", \"Poblaciòn de 1 año\", \"Neumococo\", \"3ra Dosis\"),\n",
    "        (\"Neumo 2da (12-23 meses)\", \"Niños 12-23 meses\", \"Neumococo\", \"2da Dosis\"),\n",
    "        (\"Neumo U. (24- 35 Meses)\", \"Niños 24-35 meses\", \"Neumococo\", \"Dosis Única\"),\n",
    "        (\"POLIO \\n1er. Ref.\", \"Poblaciòn de 1 año\", \"VOP\", \"1er Refuerzo\"),\n",
    "        (\"DPT\\n1er. Ref.\", \"Poblaciòn de 1 año\", \"DPT\", \"1er Refuerzo\"),\n",
    "        (\"POLIO\\n2do. Ref.\", \"Escolares\", \"VOP\", \"2do Refuerzo\"),\n",
    "        (\"DPT\\n2do. Ref.\", \"Escolares\", \"DPT\", \"2do Refuerzo\"),\n",
    "        (\"T. V.\\nRef.\", \"Escolares\", \"Triple Viral\", \"Refuerzo\"),\n",
    "    ]\n",
    "\n",
    "    columnas_salida = [\n",
    "        \"ANO\",\n",
    "        \"CODIGO DEPARTAMENTO\",\n",
    "        \"DEPARTAMENTO\",\n",
    "        \"MUNICIPIO\",\n",
    "        \"GRUPO POBLACIONAL\",\n",
    "        \"BIOLOGICO\",\n",
    "        \"META\",\n",
    "        \"DOSIS APLICADAS\",\n",
    "        \"COBERTURA\",\n",
    "        \"TIPO DOSIS\",\n",
    "        \"REGION\"\n",
    "    ]\n",
    "\n",
    "    filas = []\n",
    "\n",
    "    for col_excel, grupo, bio_estandar, tipo_dosis in biologicos:\n",
    "        # Buscar columna de cobertura correspondiente (puede tener % y nombres variados)\n",
    "        cobertura_col = None\n",
    "        for col in df_original.columns:\n",
    "            col_norm = col.strip().lower().replace(\" \", \"\").replace(\"\\n\", \"\")\n",
    "            target_norm = f\"%{bio_estandar}\".lower().replace(\" \", \"\")\n",
    "            if target_norm in col_norm:\n",
    "                cobertura_col = col\n",
    "                break\n",
    "\n",
    "        for i, row in df_original.iterrows():\n",
    "            filas.append({\n",
    "                \"ANO\": anio,\n",
    "                \"CODIGO DEPARTAMENTO\": row[\"COD\"],\n",
    "                \"DEPARTAMENTO\": row[\"Deptos\"],\n",
    "                \"MUNICIPIO\": row[\"Municipio\"],\n",
    "                \"GRUPO POBLACIONAL\": grupo.replace(\"Poblaciòn\", \"Población\").replace(\"menor\", \"Menor\"),\n",
    "                \"BIOLOGICO\": bio_estandar,\n",
    "                \"META\": row[grupo] if grupo in df_original.columns else None,\n",
    "                \"DOSIS APLICADAS\": row[col_excel] if col_excel in df_original.columns else None,\n",
    "                \"COBERTURA\": row[cobertura_col] if cobertura_col and cobertura_col in df_original.columns else None,\n",
    "                \"TIPO DOSIS\": tipo_dosis if (\"Única\" not in tipo_dosis) else \"Unica\",\n",
    "                \"REGION\": \"None\"\n",
    "            })\n",
    "\n",
    "    return pd.DataFrame(filas, columns=columnas_salida)\n"
   ]
  },
  {
   "cell_type": "code",
   "execution_count": 39,
   "id": "4e7a5432",
   "metadata": {},
   "outputs": [
    {
     "data": {
      "text/html": [
       "<div>\n",
       "<style scoped>\n",
       "    .dataframe tbody tr th:only-of-type {\n",
       "        vertical-align: middle;\n",
       "    }\n",
       "\n",
       "    .dataframe tbody tr th {\n",
       "        vertical-align: top;\n",
       "    }\n",
       "\n",
       "    .dataframe thead th {\n",
       "        text-align: right;\n",
       "    }\n",
       "</style>\n",
       "<table border=\"1\" class=\"dataframe\">\n",
       "  <thead>\n",
       "    <tr style=\"text-align: right;\">\n",
       "      <th></th>\n",
       "      <th>ANO</th>\n",
       "      <th>CODIGO DEPARTAMENTO</th>\n",
       "      <th>DEPARTAMENTO</th>\n",
       "      <th>MUNICIPIO</th>\n",
       "      <th>GRUPO POBLACIONAL</th>\n",
       "      <th>BIOLOGICO</th>\n",
       "      <th>META</th>\n",
       "      <th>DOSIS APLICADAS</th>\n",
       "      <th>COBERTURA</th>\n",
       "      <th>TIPO DOSIS</th>\n",
       "      <th>REGION</th>\n",
       "    </tr>\n",
       "  </thead>\n",
       "  <tbody>\n",
       "    <tr>\n",
       "      <th>0</th>\n",
       "      <td>2010</td>\n",
       "      <td>5001</td>\n",
       "      <td>ANTIOQUIA</td>\n",
       "      <td>Medellín</td>\n",
       "      <td>Población Menor de 1 año</td>\n",
       "      <td>VOP</td>\n",
       "      <td>29254.0</td>\n",
       "      <td>27082</td>\n",
       "      <td>92.575374</td>\n",
       "      <td>1ra Dosis</td>\n",
       "      <td>None</td>\n",
       "    </tr>\n",
       "    <tr>\n",
       "      <th>1</th>\n",
       "      <td>2010</td>\n",
       "      <td>5002</td>\n",
       "      <td>ANTIOQUIA</td>\n",
       "      <td>Abejorral</td>\n",
       "      <td>Población Menor de 1 año</td>\n",
       "      <td>VOP</td>\n",
       "      <td>359.0</td>\n",
       "      <td>261</td>\n",
       "      <td>72.701950</td>\n",
       "      <td>1ra Dosis</td>\n",
       "      <td>None</td>\n",
       "    </tr>\n",
       "    <tr>\n",
       "      <th>2</th>\n",
       "      <td>2010</td>\n",
       "      <td>5004</td>\n",
       "      <td>ANTIOQUIA</td>\n",
       "      <td>Abriaquí</td>\n",
       "      <td>Población Menor de 1 año</td>\n",
       "      <td>VOP</td>\n",
       "      <td>40.0</td>\n",
       "      <td>23</td>\n",
       "      <td>57.500000</td>\n",
       "      <td>1ra Dosis</td>\n",
       "      <td>None</td>\n",
       "    </tr>\n",
       "    <tr>\n",
       "      <th>3</th>\n",
       "      <td>2010</td>\n",
       "      <td>5021</td>\n",
       "      <td>ANTIOQUIA</td>\n",
       "      <td>Alejandría</td>\n",
       "      <td>Población Menor de 1 año</td>\n",
       "      <td>VOP</td>\n",
       "      <td>54.0</td>\n",
       "      <td>50</td>\n",
       "      <td>92.592593</td>\n",
       "      <td>1ra Dosis</td>\n",
       "      <td>None</td>\n",
       "    </tr>\n",
       "    <tr>\n",
       "      <th>4</th>\n",
       "      <td>2010</td>\n",
       "      <td>5030</td>\n",
       "      <td>ANTIOQUIA</td>\n",
       "      <td>Amagá</td>\n",
       "      <td>Población Menor de 1 año</td>\n",
       "      <td>VOP</td>\n",
       "      <td>548.0</td>\n",
       "      <td>343</td>\n",
       "      <td>62.591241</td>\n",
       "      <td>1ra Dosis</td>\n",
       "      <td>None</td>\n",
       "    </tr>\n",
       "  </tbody>\n",
       "</table>\n",
       "</div>"
      ],
      "text/plain": [
       "    ANO  CODIGO DEPARTAMENTO DEPARTAMENTO   MUNICIPIO  \\\n",
       "0  2010                 5001    ANTIOQUIA    Medellín   \n",
       "1  2010                 5002    ANTIOQUIA   Abejorral   \n",
       "2  2010                 5004    ANTIOQUIA    Abriaquí   \n",
       "3  2010                 5021    ANTIOQUIA  Alejandría   \n",
       "4  2010                 5030    ANTIOQUIA       Amagá   \n",
       "\n",
       "          GRUPO POBLACIONAL BIOLOGICO     META  DOSIS APLICADAS  COBERTURA  \\\n",
       "0  Población Menor de 1 año       VOP  29254.0            27082  92.575374   \n",
       "1  Población Menor de 1 año       VOP    359.0              261  72.701950   \n",
       "2  Población Menor de 1 año       VOP     40.0               23  57.500000   \n",
       "3  Población Menor de 1 año       VOP     54.0               50  92.592593   \n",
       "4  Población Menor de 1 año       VOP    548.0              343  62.591241   \n",
       "\n",
       "  TIPO DOSIS REGION  \n",
       "0  1ra Dosis   None  \n",
       "1  1ra Dosis   None  \n",
       "2  1ra Dosis   None  \n",
       "3  1ra Dosis   None  \n",
       "4  1ra Dosis   None  "
      ]
     },
     "execution_count": 39,
     "metadata": {},
     "output_type": "execute_result"
    }
   ],
   "source": [
    "\n",
    "df_transformado_2010 = transformar_base_con_refuerzos(pd2010, anio=2010)\n",
    "df_transformado_2010.head()\n"
   ]
  },
  {
   "cell_type": "code",
   "execution_count": 40,
   "id": "48b1ae3e",
   "metadata": {},
   "outputs": [],
   "source": [
    "df_transformado_2010.to_csv(\"2010.csv\", index=False, encoding=\"utf-8-sig\")"
   ]
  },
  {
   "cell_type": "code",
   "execution_count": 41,
   "id": "6d979c8b",
   "metadata": {},
   "outputs": [
    {
     "data": {
      "text/plain": [
       "array(['1ra Dosis', '2da Dosis', '3ra Dosis', 'Unica', '1er Refuerzo',\n",
       "       '2do Refuerzo', 'Refuerzo'], dtype=object)"
      ]
     },
     "execution_count": 41,
     "metadata": {},
     "output_type": "execute_result"
    }
   ],
   "source": [
    "df_transformado_2010[\"TIPO DOSIS\"].unique()"
   ]
  },
  {
   "cell_type": "code",
   "execution_count": 42,
   "id": "e382ddd3",
   "metadata": {},
   "outputs": [
    {
     "data": {
      "text/plain": [
       "array(['Población Menor de 1 año', 'Población de 1 año',\n",
       "       'Niños 12-23 meses', 'Niños 24-35 meses', 'Escolares'],\n",
       "      dtype=object)"
      ]
     },
     "execution_count": 42,
     "metadata": {},
     "output_type": "execute_result"
    }
   ],
   "source": [
    "df_transformado_2010[\"GRUPO POBLACIONAL\"].unique()"
   ]
  },
  {
   "cell_type": "markdown",
   "id": "c79a9a44",
   "metadata": {},
   "source": [
    "## Unificar DataFrames"
   ]
  },
  {
   "cell_type": "code",
   "execution_count": 43,
   "id": "7fbe70af",
   "metadata": {},
   "outputs": [
    {
     "name": "stderr",
     "output_type": "stream",
     "text": [
      "C:\\Users\\volpi\\AppData\\Local\\Temp\\ipykernel_12744\\3302261048.py:7: FutureWarning: The behavior of DataFrame concatenation with empty or all-NA entries is deprecated. In a future version, this will no longer exclude empty or all-NA columns when determining the result dtypes. To retain the old behavior, exclude the relevant entries before the concat operation.\n",
      "  df_unificado = pd.concat(dataframes, ignore_index=True)\n"
     ]
    },
    {
     "name": "stdout",
     "output_type": "stream",
     "text": [
      "    ANO  CODIGO DEPARTAMENTO DEPARTAMENTO   MUNICIPIO  \\\n",
      "0  2007                 5001    Antioquia    Medellín   \n",
      "1  2007                 5002    Antioquia   Abejorral   \n",
      "2  2007                 5004    Antioquia    Abriaquí   \n",
      "3  2007                 5021    Antioquia  Alejandría   \n",
      "4  2007                 5030    Antioquia       Amagá   \n",
      "\n",
      "          GRUPO POBLACIONAL BIOLOGICO  META  DOSIS APLICADAS   COBERTURA  \\\n",
      "0  Población menor de 1 año       VOP   NaN          29428.0  101.179302   \n",
      "1  Población menor de 1 año       VOP   NaN            333.0   90.000000   \n",
      "2  Población menor de 1 año       VOP   NaN             30.0   69.767442   \n",
      "3  Población menor de 1 año       VOP   NaN             74.0  139.622642   \n",
      "4  Población menor de 1 año       VOP   NaN            400.0   71.047957   \n",
      "\n",
      "  TIPO DOSIS REGION  \n",
      "0      Unica   None  \n",
      "1      Unica   None  \n",
      "2      Unica   None  \n",
      "3      Unica   None  \n",
      "4      Unica   None  \n"
     ]
    }
   ],
   "source": [
    "import pandas as pd\n",
    "\n",
    "# Lista de los DataFrames ya transformados\n",
    "dataframes = [df_transformado_2007, df_transformado_2008, df_transformado_2009, df_transformado_2010]  # Asegúrate de que existan con estos nombres\n",
    "\n",
    "# Concatenarlos en un solo DataFrame\n",
    "df_unificado = pd.concat(dataframes, ignore_index=True)\n",
    "\n",
    "# Vista previa\n",
    "print(df_unificado.head())\n",
    "\n",
    "\n",
    "df_unificado.to_csv(\"unificado_2007_2010.csv\", index=False)\n"
   ]
  },
  {
   "cell_type": "code",
   "execution_count": 44,
   "id": "b93250c3",
   "metadata": {},
   "outputs": [],
   "source": [
    "import pandas as pd\n",
    "pd2016 = pd.read_csv(\"2016.csv\")\n",
    "pd2017 = pd.read_csv(\"2017.csv\")\n",
    "pd2018 = pd.read_csv(\"2018.csv\")\n",
    "pd2019 = pd.read_csv(\"2019.csv\")\n"
   ]
  },
  {
   "cell_type": "code",
   "execution_count": 45,
   "id": "8abd830f",
   "metadata": {},
   "outputs": [
    {
     "name": "stdout",
     "output_type": "stream",
     "text": [
      "    ANO  CODIGO DEPARTAMENTO  DEPARTAMENTO  MUNICIPIO  \\\n",
      "0  2016                 91.0      AMAZONAS        NaN   \n",
      "1  2016                  5.0     ANTIOQUIA        NaN   \n",
      "2  2016                 81.0        ARAUCA        NaN   \n",
      "3  2016                  8.0     ATLANTICO        NaN   \n",
      "4  2016               8001.0  BARRANQUILLA        NaN   \n",
      "\n",
      "              GRUPO POBLACIONAL BIOLOGICO   META  DOSIS APLICADAS  COBERTURA  \\\n",
      "0  RECIÉN NACIDO HASTA 11 MESES       BCG   1802           1503.0       83.4   \n",
      "1  RECIÉN NACIDO HASTA 11 MESES       BCG  78411          75215.0       95.9   \n",
      "2  RECIÉN NACIDO HASTA 11 MESES       BCG   4272           4415.0      103.3   \n",
      "3  RECIÉN NACIDO HASTA 11 MESES       BCG  20672          20653.0       99.9   \n",
      "4  RECIÉN NACIDO HASTA 11 MESES       BCG  21907          22270.0      101.7   \n",
      "\n",
      "    TIPO DOSIS    REGION  \n",
      "0  Dosis Unica  AMAZONIA  \n",
      "1  Dosis Unica    ANDINA  \n",
      "2  Dosis Unica    LLANOS  \n",
      "3  Dosis Unica    CARIBE  \n",
      "4  Dosis Unica    CARIBE  \n"
     ]
    }
   ],
   "source": [
    "\n",
    "# Lista de los DataFrames ya transformados\n",
    "dataframes = [pd2016, pd2017, pd2018, pd2019]  # Asegúrate de que existan con estos nombres\n",
    "\n",
    "# Concatenarlos en un solo DataFrame\n",
    "df_unificado = pd.concat(dataframes, ignore_index=True)\n",
    "\n",
    "# Vista previa\n",
    "print(df_unificado.head())\n",
    "\n",
    "\n",
    "df_unificado.to_csv(\"unificado_2016_2019.csv\", index=False)"
   ]
  },
  {
   "cell_type": "markdown",
   "id": "db646818",
   "metadata": {},
   "source": [
    "## Unión ambos DF"
   ]
  },
  {
   "cell_type": "code",
   "execution_count": 47,
   "id": "9f1e0b33",
   "metadata": {},
   "outputs": [],
   "source": [
    "pd2007_2010 = pd.read_csv(\"unificado_2007_2010.csv\")\n",
    "pd2016_2019 = pd.read_csv(\"unificado_2016_2019.csv\")"
   ]
  },
  {
   "cell_type": "code",
   "execution_count": 48,
   "id": "efc6b4dc",
   "metadata": {},
   "outputs": [
    {
     "name": "stdout",
     "output_type": "stream",
     "text": [
      "    ANO  CODIGO DEPARTAMENTO DEPARTAMENTO   MUNICIPIO  \\\n",
      "0  2007               5001.0    Antioquia    Medellín   \n",
      "1  2007               5002.0    Antioquia   Abejorral   \n",
      "2  2007               5004.0    Antioquia    Abriaquí   \n",
      "3  2007               5021.0    Antioquia  Alejandría   \n",
      "4  2007               5030.0    Antioquia       Amagá   \n",
      "\n",
      "          GRUPO POBLACIONAL BIOLOGICO META  DOSIS APLICADAS   COBERTURA  \\\n",
      "0  Población menor de 1 año       VOP  NaN          29428.0  101.179302   \n",
      "1  Población menor de 1 año       VOP  NaN            333.0   90.000000   \n",
      "2  Población menor de 1 año       VOP  NaN             30.0   69.767442   \n",
      "3  Población menor de 1 año       VOP  NaN             74.0  139.622642   \n",
      "4  Población menor de 1 año       VOP  NaN            400.0   71.047957   \n",
      "\n",
      "  TIPO DOSIS REGION  \n",
      "0      Unica    NaN  \n",
      "1      Unica    NaN  \n",
      "2      Unica    NaN  \n",
      "3      Unica    NaN  \n",
      "4      Unica    NaN  \n"
     ]
    }
   ],
   "source": [
    "# Lista de los DataFrames ya transformados\n",
    "dataframes = [pd2007_2010,pd2016_2019]  # Asegúrate de que existan con estos nombres\n",
    "\n",
    "# Concatenarlos en un solo DataFrame\n",
    "df_unificado = pd.concat(dataframes, ignore_index=True)\n",
    "\n",
    "# Vista previa\n",
    "print(df_unificado.head())\n",
    "\n",
    "\n",
    "df_unificado.to_csv(\"datos_finales.csv\", index=False)"
   ]
  },
  {
   "cell_type": "markdown",
   "id": "e83ac1ef",
   "metadata": {},
   "source": [
    "### Revisión de consistencia"
   ]
  },
  {
   "cell_type": "code",
   "execution_count": 49,
   "id": "cb9d6ee4",
   "metadata": {},
   "outputs": [],
   "source": [
    "datos = pd.read_csv(\"datos_finales.csv\")"
   ]
  },
  {
   "cell_type": "markdown",
   "id": "2e886a70",
   "metadata": {},
   "source": [
    "#### Biologico"
   ]
  },
  {
   "cell_type": "code",
   "execution_count": 50,
   "id": "4e75356b",
   "metadata": {},
   "outputs": [
    {
     "data": {
      "text/plain": [
       "array(['VOP', 'DPT', 'BCG', 'Hepatitis B', 'Hib', 'Triple Viral',\n",
       "       'Fiebre Amarilla', 'Rotavirus', 'Neumococo', 'HB',\n",
       "       'ANTIPOLIO INACTIVADA', 'VOP+VIP', 'PENTA', 'ROTAVIRUS', 'FLU',\n",
       "       'NEUMO', 'SRP', 'VARICELA', 'F.A.', 'HA', 'GESTANTES',\n",
       "       'TDAP ACELULAR', 'VPH'], dtype=object)"
      ]
     },
     "execution_count": 50,
     "metadata": {},
     "output_type": "execute_result"
    }
   ],
   "source": [
    "datos[\"BIOLOGICO\"].unique()"
   ]
  },
  {
   "cell_type": "code",
   "execution_count": 51,
   "id": "11c3bb7a",
   "metadata": {},
   "outputs": [],
   "source": [
    "datos[\"BIOLOGICO\"] = datos[\"BIOLOGICO\"].replace({\"HB\":\"Hepatitis B\", \"GESTANTES\":\"FLU\", \"F.A.\":\"Fiebre Amarilla\"})"
   ]
  },
  {
   "cell_type": "markdown",
   "id": "9c958c08",
   "metadata": {},
   "source": [
    "#### Tipo Dosis"
   ]
  },
  {
   "cell_type": "code",
   "execution_count": 54,
   "id": "4a81b2d1",
   "metadata": {},
   "outputs": [
    {
     "data": {
      "text/plain": [
       "array(['Unica', '1ra Dosis', '2da Dosis', '3ra Dosis', '1er Refuerzo',\n",
       "       '2do Refuerzo', 'Refuerzo', 'Dosis Unica', 'D. Unica',\n",
       "       '1ras. Dosis', '3.Dosis', '2do. Ref.', 'Ref.', '2das. Dosis',\n",
       "       '3ras Dosis', 'U.Dósis', 'REF.', 'U. Dósis', '1er. Ref.', 'UNICA',\n",
       "       'UNICA DOSIS EN CADA EMBARAZO', '1a', '2a', '3a', '3ras .Dosis',\n",
       "       '3ras. Dosis', 'Dosis Ref.', 'U. D. C/ embarazo', 'VPH 1a Dosis',\n",
       "       'VPH 2a Dosis'], dtype=object)"
      ]
     },
     "execution_count": 54,
     "metadata": {},
     "output_type": "execute_result"
    }
   ],
   "source": [
    "datos[\"TIPO DOSIS\"].unique()"
   ]
  },
  {
   "cell_type": "code",
   "execution_count": 55,
   "id": "d088ef6c",
   "metadata": {},
   "outputs": [],
   "source": [
    "datos[\"TIPO DOSIS\"] = datos[\"TIPO DOSIS\"].replace({\"Única\":\"Unica\", \"Dosis Unica\":\"Unica\",\n",
    "\"D. Unica\":\"Unica\", \"U.Dósis\":\"Unica\", \"U. Dósis\":\"Unica\", \"UNICA\":\"Unica\", \"1ras. Dosis\":\"1ra Dosis\", \"1a\": \"1ra Dosis\", \"VPH 1a Dosis\":\"1ra Dosis\", \n",
    "\"2das. Dosis\":'2da Dosis', \"2a\":'2da Dosis', \"VPH 2a Dosis\": \"2da Dosis\", '3.Dosis':'3ra Dosis', '3ras Dosis':'3ra Dosis', '3a':'3ra Dosis',\n",
    "'3ras .Dosis':'3ra Dosis', '3ras. Dosis':'3ra Dosis', '1er. Ref.':\"1er Refuerzo\",'2do. Ref.':\"2do Refuerzo\", 'Ref.':\"Refuerzo\" ,  'REF.':\"Refuerzo\",\n",
    "'Dosis Ref.':\"Refuerzo\", 'UNICA DOSIS EN CADA EMBARAZO':\"UDC Embarazo\", 'U. D. C/ embarazo':\"UDC Embarazo\"})"
   ]
  },
  {
   "cell_type": "code",
   "execution_count": 56,
   "id": "92a4e18c",
   "metadata": {},
   "outputs": [
    {
     "data": {
      "text/plain": [
       "array(['Unica', '1ra Dosis', '2da Dosis', '3ra Dosis', '1er Refuerzo',\n",
       "       '2do Refuerzo', 'Refuerzo', 'UDC Embarazo'], dtype=object)"
      ]
     },
     "execution_count": 56,
     "metadata": {},
     "output_type": "execute_result"
    }
   ],
   "source": [
    "datos[\"TIPO DOSIS\"].unique()"
   ]
  },
  {
   "cell_type": "markdown",
   "id": "7e68cb20",
   "metadata": {},
   "source": [
    "#### Grupo Poblacional"
   ]
  },
  {
   "cell_type": "code",
   "execution_count": 57,
   "id": "34050c1f",
   "metadata": {},
   "outputs": [
    {
     "data": {
      "text/plain": [
       "array(['Población menor de 1 año', 'Población de 1 año',\n",
       "       'Población Menor de 1 año', 'Niños 12-23 meses',\n",
       "       'Niños 24-35 meses', 'Escolares', 'RECIÉN NACIDO HASTA 11 MESES',\n",
       "       'RECIÉN NACIDO', '<1 AÑO', '<1 AÑO 3as', 'MENOR DE 1 AÑO',\n",
       "       '2 A 3 MESES Y 21 DÍAS', '4 A 11 MESES Y 29 DÍAS', '6 A 11 MESES',\n",
       "       '2 A 11 MESES 29 DÍAS', '5 AÑOS', 'DE UN AÑO', '1 AÑO',\n",
       "       '12 A 23 MESES', '24 A 35 MESES', 'AL AÑO DE 3ra DOSIS',\n",
       "       '19 A 49 AÑOS', '50 AÑOS Y MÁS', 'SEMANA 14+',\n",
       "       'GESTANTES ≥10 AÑOS', '9 AÑOS', '41 A 59 AÑOS', '60 AÑOS Y MÁS'],\n",
       "      dtype=object)"
      ]
     },
     "execution_count": 57,
     "metadata": {},
     "output_type": "execute_result"
    }
   ],
   "source": [
    "datos[\"GRUPO POBLACIONAL\"].unique()"
   ]
  },
  {
   "cell_type": "code",
   "execution_count": 61,
   "id": "2e65d949",
   "metadata": {},
   "outputs": [],
   "source": [
    "datos[\"GRUPO POBLACIONAL\"] = datos[\"GRUPO POBLACIONAL\"].replace({'Población menor de 1 año':'MENOR DE 1 AÑO', 'Población Menor de 1 año':'MENOR DE 1 AÑO',\n",
    "'<1 AÑO':'MENOR DE 1 AÑO','<1 AÑO 3as':'MENOR DE 1 AÑO','Población de 1 año':'1 AÑO', 'DE UN AÑO':'1 AÑO','GESTANTES ≥10 AÑOS':\"Gestante\" ,'Niños 12-23 meses':'12 A 23 MESES' })"
   ]
  },
  {
   "cell_type": "code",
   "execution_count": 62,
   "id": "a1ed53db",
   "metadata": {},
   "outputs": [
    {
     "data": {
      "text/plain": [
       "array(['MENOR DE 1 AÑO', '1 AÑO', '12 A 23 MESES', 'Niños 24-35 meses',\n",
       "       'Escolares', 'RECIÉN NACIDO HASTA 11 MESES', 'RECIÉN NACIDO',\n",
       "       '2 A 3 MESES Y 21 DÍAS', '4 A 11 MESES Y 29 DÍAS', '6 A 11 MESES',\n",
       "       '2 A 11 MESES 29 DÍAS', '5 AÑOS', '24 A 35 MESES',\n",
       "       'AL AÑO DE 3ra DOSIS', '19 A 49 AÑOS', '50 AÑOS Y MÁS',\n",
       "       'SEMANA 14+', 'Gestante', '9 AÑOS', '41 A 59 AÑOS',\n",
       "       '60 AÑOS Y MÁS'], dtype=object)"
      ]
     },
     "execution_count": 62,
     "metadata": {},
     "output_type": "execute_result"
    }
   ],
   "source": [
    "datos[\"GRUPO POBLACIONAL\"].unique()"
   ]
  },
  {
   "cell_type": "markdown",
   "id": "17930dd6",
   "metadata": {},
   "source": [
    "#### Departamento"
   ]
  },
  {
   "cell_type": "code",
   "execution_count": null,
   "metadata": {},
   "outputs": [],
   "source": []
  },
  {
   "cell_type": "code",
   "execution_count": null,
   "metadata": {},
   "outputs": [],
   "source": []
  },
  {
   "cell_type": "code",
   "execution_count": null,
   "metadata": {},
   "outputs": [],
   "source": []
  }
 ],
 "metadata": {
  "kernelspec": {
   "display_name": "Python 3",
   "language": "python",
   "name": "python3"
  },
  "language_info": {
   "codemirror_mode": {
    "name": "ipython",
    "version": 3
   },
   "file_extension": ".py",
   "mimetype": "text/x-python",
   "name": "python",
   "nbconvert_exporter": "python",
   "pygments_lexer": "ipython3",
   "version": "3.11.9"
  }
 },
 "nbformat": 4,
 "nbformat_minor": 5
}
